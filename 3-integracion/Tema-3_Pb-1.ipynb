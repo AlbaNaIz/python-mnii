{
 "metadata": {
  "name": "",
  "signature": "sha256:b9cf74379716173900f64a5d97a0bcef40dc5c466573fc2ee1e0781a67d095f1"
 },
 "nbformat": 3,
 "nbformat_minor": 0,
 "worksheets": [
  {
   "cells": [
    {
     "cell_type": "markdown",
     "metadata": {},
     "source": [
      "# Tema 3. Problema 1\n",
      "\n",
      "Se considera la f\u00f3rmula de cuadratura\n",
      "$$\\int_0^1 \\! f(x) \\, \\mathrm{d}x \\approx c_{0} f(0) + c_{1}f(\\frac{1}{3}) + c_{2} f(\\frac{2}{3}) + c_{3} f(1)$$\n",
      "\n",
      "1. Calcular los coeficientes $c_{0}, c_{1}, c_{2} y c_{3}$ para los que esta f\u00f3rmula de cuadratura es exacta para polinomios de grado menor o igual que 3. \n",
      "2. Comprobar computacionalmente que la f\u00f3rmula resultante no proporciona el valor exacto para polinomios de orden 4."
     ]
    },
    {
     "cell_type": "code",
     "collapsed": false,
     "input": [
      "from __future__ import division, print_function # S\u00f3lo si se usa Python 2.x\n",
      "import numpy as np\n",
      "import matplotlib.pyplot as plt\n",
      "%matplotlib inline"
     ],
     "language": "python",
     "metadata": {},
     "outputs": [],
     "prompt_number": 3
    },
    {
     "cell_type": "markdown",
     "metadata": {},
     "source": [
      "$E_{0}(x^0)= 0 \\Rightarrow \\int_0^1 \\! 1 \\, \\mathrm{d}x= c_{0}+c_{1}+c_{2}+c_{3}=1$\n",
      "\n",
      "$E_{1}(x^1)= 0 \\Rightarrow \\int_0^1 \\! x \\, \\mathrm{d}x=  \\frac{c_{1}}{3}+\\frac{2c_{2}}{3}+c_{3}=\\frac{1}{2}$\n",
      " \n",
      "$E_{2}(x^2)= 0 \\Rightarrow \\int_0^1 \\! x^2 \\, \\mathrm{d}x=  \\frac{c_{1}}{9}+\\frac{4c_{2}}{9}+c_{3}=\\frac{1}{3}$\n",
      " \n",
      "$E_{3}(x^3)= 0 \\Rightarrow \\int_0^1 \\! x^3 \\, \\mathrm{d}x=  \\frac{c_{1}}{27}+\\frac{8c_{2}}{27}+c_{3}=\\frac{1}{4}$"
     ]
    },
    {
     "cell_type": "code",
     "collapsed": false,
     "input": [
      "from numpy.linalg import solve\n",
      "A= np.array([[1., 1., 1., 1.],\n",
      "             [0., 1./3, 2./3, 1.],\n",
      "             [0., 1./9, 4./9, 1.], \n",
      "             [0., 1./27, 8./27, 1.]])\n",
      "b= np.array([1., 1./2, 1./3, 1./4])\n",
      "coef = solve(A,b)\n",
      "coef # En esta lista tenemos los valores de los coeficientes"
     ],
     "language": "python",
     "metadata": {},
     "outputs": [
      {
       "metadata": {},
       "output_type": "pyout",
       "prompt_number": 35,
       "text": [
        "array([ 0.125,  0.375,  0.375,  0.125])"
       ]
      }
     ],
     "prompt_number": 35
    },
    {
     "cell_type": "code",
     "collapsed": false,
     "input": [
      "def formula_cuad(f):\n",
      "    pesos=coef\n",
      "    nodos=np.array([0., 1./3, 2./3, 1.])\n",
      "    return np.dot(pesos, f(nodos))"
     ],
     "language": "python",
     "metadata": {},
     "outputs": [],
     "prompt_number": 36
    },
    {
     "cell_type": "code",
     "collapsed": false,
     "input": [
      "pesos = coef\n",
      "nodos = np.array([0., 1./3, 2./3, 1.])\n",
      "f = lambda x: np.array([1]*len(x))\n",
      "formula_cuad(f)"
     ],
     "language": "python",
     "metadata": {},
     "outputs": [
      {
       "metadata": {},
       "output_type": "pyout",
       "prompt_number": 51,
       "text": [
        "1.0000000000000002"
       ]
      }
     ],
     "prompt_number": 51
    },
    {
     "cell_type": "code",
     "collapsed": false,
     "input": [
      "class FormCuad:\n",
      "    def __init__(self, nodos, pesos):\n",
      "        self.nodos = nodos\n",
      "        self.pesos = pesos\n",
      "    def integral(self, f):\n",
      "        nodos = self.nodos\n",
      "        pesos = self.pesos\n",
      "        return np.dot(pesos,f(nodos))\n",
      "    def npoints(self):\n",
      "        return len(nodos)\n",
      "\n",
      "fc = FormCuad(pesos,nodos)\n",
      "fc.integral(lambda x: x)\n",
      "fc.nodos\n",
      "fc.pesos\n",
      "fc.npoints()"
     ],
     "language": "python",
     "metadata": {},
     "outputs": [
      {
       "metadata": {},
       "output_type": "pyout",
       "prompt_number": 57,
       "text": [
        "4"
       ]
      }
     ],
     "prompt_number": 57
    },
    {
     "cell_type": "code",
     "collapsed": false,
     "input": [
      "x=np.array([2,3])\n",
      "len(x)\n",
      "[1]*len(x)"
     ],
     "language": "python",
     "metadata": {},
     "outputs": [
      {
       "metadata": {},
       "output_type": "pyout",
       "prompt_number": 49,
       "text": [
        "[1, 1]"
       ]
      }
     ],
     "prompt_number": 49
    },
    {
     "cell_type": "code",
     "collapsed": false,
     "input": [],
     "language": "python",
     "metadata": {},
     "outputs": []
    }
   ],
   "metadata": {}
  }
 ]
}