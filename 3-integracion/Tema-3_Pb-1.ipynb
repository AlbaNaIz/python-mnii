{
 "metadata": {
  "name": "",
  "signature": "sha256:02c5578354fe004ae9383ffd01e001a843022e3b00c4076bcf9c48c6f6d3b1a8"
 },
 "nbformat": 3,
 "nbformat_minor": 0,
 "worksheets": [
  {
   "cells": [
    {
     "cell_type": "markdown",
     "metadata": {},
     "source": [
      "# Tema 3. Problema 1\n",
      "\n",
      "Se considera la f\u00f3rmula de cuadratura\n",
      "$$\\int_0^1 \\! f(x) \\, \\mathrm{d}x \\approx c_{0} f(0) + c_{1}f(\\frac{1}{3}) + c_{2} f(\\frac{2}{3}) + c_{3} f(1)$$\n",
      "\n",
      "1. Calcular los coeficientes $c_{0}, c_{1}, c_{2} y c_{3}$ para los que esta f\u00f3rmula de cuadratura es exacta para polinomios de grado menor o igual que 3. \n",
      "2. Comprobar computacionalmente que la f\u00f3rmula resultante no proporciona el valor exacto para polinomios de orden 4."
     ]
    },
    {
     "cell_type": "code",
     "collapsed": false,
     "input": [
      "from __future__ import division, print_function # S\u00f3lo si se usa Python 2.x\n",
      "import numpy as np\n",
      "import matplotlib.pyplot as plt\n",
      "%matplotlib inline"
     ],
     "language": "python",
     "metadata": {},
     "outputs": [],
     "prompt_number": 3
    },
    {
     "cell_type": "markdown",
     "metadata": {},
     "source": [
      "$E_{0}(x^0)= 0 \\Rightarrow \\int_0^1 \\! 1 \\, \\mathrm{d}x= c_{0}+c_{1}+c_{2}+c_{3}=1$\n",
      "\n",
      "$E_{1}(x^1)= 0 \\Rightarrow \\int_0^1 \\! x \\, \\mathrm{d}x=  \\frac{c_{1}}{3}+\\frac{2c_{2}}{3}+c_{3}=\\frac{1}{2}$\n",
      " \n",
      "$E_{2}(x^2)= 0 \\Rightarrow \\int_0^1 \\! x^2 \\, \\mathrm{d}x=  \\frac{c_{1}}{9}+\\frac{4c_{2}}{9}+c_{3}=\\frac{1}{3}$\n",
      " \n",
      "$E_{3}(x^3)= 0 \\Rightarrow \\int_0^1 \\! x^3 \\, \\mathrm{d}x=  \\frac{c_{1}}{27}+\\frac{8c_{2}}{27}+c_{3}=\\frac{1}{4}$"
     ]
    },
    {
     "cell_type": "markdown",
     "metadata": {},
     "source": [
      "Para resolver el sistema de ecuaciones, usando la funci\u00f3n `solve`, que est\u00e1 en un subm\u00f3dulo de `numpy` llamado \"`linalg`\", debemos escribirlo de forma matricial (la matriz del sistema es de tipo *Vandermonde*, pues resulta de la evaluaci\u00f3n en los nodos de cuadratura de monomios del tipo $x^n$):"
     ]
    },
    {
     "cell_type": "code",
     "collapsed": false,
     "input": [
      "from numpy.linalg import solve\n",
      "A= np.array([[1., 1., 1., 1.],\n",
      "             [0., 1./3, 2./3, 1.],\n",
      "             [0., 1./9, 4./9, 1.], \n",
      "             [0., 1./27, 8./27, 1.]])\n",
      "b= np.array([1., 1./2, 1./3, 1./4])\n",
      "coef = solve(A,b)\n",
      "coef # En esta lista tenemos los valores de los coeficientes"
     ],
     "language": "python",
     "metadata": {},
     "outputs": [
      {
       "metadata": {},
       "output_type": "pyout",
       "prompt_number": 24,
       "text": [
        "array([ 0.125,  0.375,  0.375,  0.125])"
       ]
      }
     ],
     "prompt_number": 24
    },
    {
     "cell_type": "markdown",
     "metadata": {},
     "source": [
      "**Observaci\u00f3n**:\n",
      "Ser\u00eda m\u00e1s interesante definir una funci\u00f3n llamada `vandermonde` que tome como par\u00e1metros los nodos de cuadratura y devuelva la matriz asociada. Esta tarea se puede realizar de varias formas. Se deja como ejercicio.\n",
      "\n",
      "A continuaci\u00f3n, definimos una funci\u00f3n que utilice la f\u00f3rmula de cuadratura para aproximar la integral de cualquier funci\u00f3n:"
     ]
    },
    {
     "cell_type": "code",
     "collapsed": false,
     "input": [
      "def formula_cuad(f, nodos, pesos):\n",
      "    \"\"\"\n",
      "    Aproxima la integral de una funci\u00f3n $f$ mediante a la f\u00f3rmula de cuadratura \n",
      "    definida por una serie de nodos y de pesos\n",
      "    \"\"\"\n",
      "    nodos = np.array(nodos) # Convertimos los nodos en un array para poder aplicar f\n",
      "    return np.dot(pesos, f(nodos))"
     ],
     "language": "python",
     "metadata": {},
     "outputs": [],
     "prompt_number": 12
    },
    {
     "cell_type": "markdown",
     "metadata": {},
     "source": [
      "Ahora aplicamos la f\u00f3rmula de cuadatura a $f(x)=x^4$ y comprobamos que no coincide con el valor de $\\int_0^1 x^4 dx=1/5$"
     ]
    },
    {
     "cell_type": "code",
     "collapsed": false,
     "input": [
      "nodos = [0., 1./3, 2./3, 1.]\n",
      "pesos = coef\n",
      "f = lambda x: x**4\n",
      "int_aprox = formula_cuad(f, nodos, pesos)\n",
      "int_exact = 1./5\n",
      "print(\"El error de cuadratura para $f(x)=x^4$ es:\", abs(int_aprox-int_exact))"
     ],
     "language": "python",
     "metadata": {},
     "outputs": [
      {
       "output_type": "stream",
       "stream": "stdout",
       "text": [
        "El error de cuadratura para $f(x)=x^4$ es: 0.0037037037037\n"
       ]
      }
     ],
     "prompt_number": 27
    },
    {
     "cell_type": "markdown",
     "metadata": {},
     "source": [
      "#### Observaci\u00f3n final\n",
      "Las f\u00f3rmulas de cuadratura son un buen ejemplo para introducir la [programaci\u00f3n orientada a objetos en Python](http://docs.python.org.ar/tutorial/2/classes.html). Esta es una materia muy amplia y no podemos profundizar aqu\u00ed. Basta un ejemplo: "
     ]
    },
    {
     "cell_type": "code",
     "collapsed": false,
     "input": [
      "class FormCuad:\n",
      "    \"\"\"\n",
      "    Clase de datos que representan f\u00f3rmulas de cuadratura\n",
      "    \"\"\"\n",
      "    def __init__(self, nodos, pesos):\n",
      "        \"\"\"\n",
      "        Constructor de objetos de tipo FormCuad, a partir de listas (o arrays) de\n",
      "        nodos de cuadratura y de pesos\n",
      "        \"\"\"\n",
      "        self.nodos = np.array(nodos)\n",
      "        self.pesos = np.array(pesos)\n",
      "    def integral(self, f):\n",
      "        \"\"\"\n",
      "        Utilizar la f\u00f3rmula de cuadratura actual para aproximar\n",
      "        la integral de una funci\u00f3n\n",
      "        \"\"\"\n",
      "        nodos = self.nodos\n",
      "        pesos = self.pesos\n",
      "        return np.dot(pesos,f(nodos))\n",
      "    def n_puntos(self):\n",
      "        \"\"\"\n",
      "        Funci\u00f3n que devuelve el n\u00famero de la f\u00f3rmula de cuadratura actual\n",
      "        \"\"\"\n",
      "        return len(nodos)\n",
      "\n",
      "fc = FormCuad(nodos,pesos) # Constru\u00edmos un objeto concreto de tipo FormCuad\n",
      "print (\"N\u00famero de nodos de la f.c.: %i\" % fc.n_puntos()) # Averiguamos cuantos puntos tiene\n",
      "print (\"Integral en [0,1] de x^3: %f\" % (fc.integral(lambda x: x**3))) # Aproximamos una integral"
     ],
     "language": "python",
     "metadata": {},
     "outputs": [
      {
       "output_type": "stream",
       "stream": "stdout",
       "text": [
        "N\u00famero de nodos de la f.c.: 4\n",
        "Integral en [0,1] de x^3: 0.250000\n"
       ]
      }
     ],
     "prompt_number": 33
    },
    {
     "cell_type": "code",
     "collapsed": false,
     "input": [],
     "language": "python",
     "metadata": {},
     "outputs": []
    }
   ],
   "metadata": {}
  }
 ]
}