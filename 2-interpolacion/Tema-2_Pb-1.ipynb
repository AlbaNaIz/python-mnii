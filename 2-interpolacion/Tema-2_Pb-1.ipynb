{
 "metadata": {
  "name": "",
  "signature": "sha256:4a606bb865179184fb009d201436e06089de0a1f93a8669efd974121e2d24883"
 },
 "nbformat": 3,
 "nbformat_minor": 0,
 "worksheets": [
  {
   "cells": [
    {
     "cell_type": "heading",
     "level": 1,
     "metadata": {},
     "source": [
      "Tema 2. Problema 1"
     ]
    },
    {
     "cell_type": "markdown",
     "metadata": {},
     "source": [
      "Dada la funci\u00f3n $f(x)=e^{-x}\\cdot cos(x^2/\\pi)$, calcular la expresi\u00f3n del polinomio que interpola a la funci\u00f3n $f$ en cinco puntos $x_i$ equiespaciados en el intervalo $[-2,2]$."
     ]
    },
    {
     "cell_type": "code",
     "collapsed": false,
     "input": [
      "from __future__ import division, print_function # S\u00f3lo si se usa Python 2.x\n",
      "import numpy as np\n",
      "import matplotlib.pyplot as plt\n",
      "%matplotlib inline"
     ],
     "language": "python",
     "metadata": {},
     "outputs": [],
     "prompt_number": 18
    },
    {
     "cell_type": "code",
     "collapsed": false,
     "input": [
      "f = lambda x: np.exp(-x)*np.cos(x*x/4)\n",
      "\n",
      "a, b = -2, 2\n",
      "n_puntos = 5 # N\u00ba de puntos de interpolaci\u00f3n\n",
      "\n",
      "x = np.linspace(a, b, n_puntos) # Array de n_puntos equiespaciados en [a, b]\n",
      "y = f(x)\n",
      "\n",
      "print(\"x =\", x)\n",
      "print(\"y =\", y)"
     ],
     "language": "python",
     "metadata": {},
     "outputs": [
      {
       "output_type": "stream",
       "stream": "stdout",
       "text": [
        "x = [-2. -1.  0.  1.  2.]\n",
        "y = [ 3.99232405  2.63377703  1.          0.35644296  0.07312197]\n"
       ]
      }
     ],
     "prompt_number": 4
    },
    {
     "cell_type": "markdown",
     "metadata": {},
     "source": [
      "En el paquete `scipy.interpolate` contamos con una gran variedad de\n",
      "funciones predefinidas que implementan algoritmos de interpolaci\u00f3n\n",
      "(ver el [manual de\n",
      "referencia](http://docs.scipy.org/doc/scipy/reference/interpolate.html)\n",
      "o\n",
      "[este tutorial](http://docs.scipy.org/doc/scipy/reference/tutorial/interpolate.html)). Entre\n",
      "ellos, se encuentra la interpolaci\u00f3n de Lagrange, que podemos usar de\n",
      "la siguiente forma:"
     ]
    },
    {
     "cell_type": "code",
     "collapsed": false,
     "input": [
      "# Cargamos la funci\u00f3n de interpolaci\u00f3n de Lagrange, contenida en scipy.interpolate\n",
      "from scipy.interpolate import lagrange \n",
      "\n",
      "p = lagrange(x, y) # Pol. de interpol. de Lagrange en nodos (x_i, y_i)\n",
      "p"
     ],
     "language": "python",
     "metadata": {},
     "outputs": [
      {
       "metadata": {},
       "output_type": "pyout",
       "prompt_number": 7,
       "text": [
        "poly1d([-0.07897641,  0.0529555 ,  0.57408641, -1.19162254,  1.        ])"
       ]
      }
     ],
     "prompt_number": 7
    },
    {
     "cell_type": "markdown",
     "metadata": {},
     "source": [
      "###Notas:\n",
      "\n",
      "- Como se puede observar, la funci\u00f3n `lagrange()` devuelve un objeto de tipo `poly1d` (polinomio 1d, o sea con una \u00fanica inc\u00f3gnita x). Estos objetos est\u00e1n definidos por los coeficientes del polinomio (siendo el primero el t\u00e9rmino de mayor grado y el \u00faltimo el t\u00e9rmino independiente). \n",
      "\n",
      "- Como vemos seguidamente, podemos imprimirlo, obteniendo una representaci\u00f3n \"m\u00e1s bonita\" del polinomio, as\u00ed comprobamos que tiene grado $n=4$ (como esperamos al interpolar en 5 puntos).  Para m\u00e1s informaci\u00f3n sobre polinomios 1d, [consultar el manual](http://docs.scipy.org/doc/numpy/reference/generated/numpy.poly1d.html)."
     ]
    },
    {
     "cell_type": "code",
     "collapsed": false,
     "input": [
      "print(p)\n",
      "print()\n",
      "print(\"Comprobamos que $p$ interpola los valores $(x_i,y_i)$:\\n\")\n",
      "for i in range(n_puntos):\n",
      "    print (\"  i = %i,  x_i = %f,  y_i-p(x_i) = %g\" % (i, x[i], y[i] - p( x[i] ) ))\n",
      "    \n",
      "print (\"Gr\u00e1fica de p:\")\n",
      "\n",
      "x_fino = np.linspace(a, b, 100) # 100 puntos entre a y b\n",
      "plt.plot(x_fino, f(x_fino), \"--\", label=\"f(x)\", lw=2)\n",
      "plt.plot(x_fino, p(x_fino), label=\"Pol. interpol.\", lw=3)\n",
      "plt.plot(x, y, 'o', label=\"Nodos de interp.\")\n",
      "\n",
      "plt.legend()"
     ],
     "language": "python",
     "metadata": {},
     "outputs": [
      {
       "output_type": "stream",
       "stream": "stdout",
       "text": [
        "          4           3          2\n",
        "-0.07898 x + 0.05296 x + 0.5741 x - 1.192 x + 1\n",
        "\n",
        "Comprobamos que $p$ interpola los valores $(x_i,y_i)$:\n",
        "\n",
        "  i = 0,  x_i = -2.000000,  y_i-p(x_i) = 4.44089e-16\n",
        "  i = 1,  x_i = -1.000000,  y_i-p(x_i) = 0\n",
        "  i = 2,  x_i = 0.000000,  y_i-p(x_i) = 0\n",
        "  i = 3,  x_i = 1.000000,  y_i-p(x_i) = 0\n",
        "  i = 4,  x_i = 2.000000,  y_i-p(x_i) = 3.60822e-16\n",
        "Gr\u00e1fica de p:\n"
       ]
      },
      {
       "metadata": {},
       "output_type": "pyout",
       "prompt_number": 19,
       "text": [
        "<matplotlib.legend.Legend at 0x7f3366df4c50>"
       ]
      },
      {
       "metadata": {},
       "output_type": "display_data",
       "png": "[encoded data removed]",
       "text": [
        "<matplotlib.figure.Figure at 0x7f3366544b10>"
       ]
      }
     ],
     "prompt_number": 19
    },
    {
     "cell_type": "code",
     "collapsed": false,
     "input": [],
     "language": "python",
     "metadata": {},
     "outputs": []
    }
   ],
   "metadata": {}
  }
 ]
}