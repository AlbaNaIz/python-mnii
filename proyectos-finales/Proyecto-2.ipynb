{
 "metadata": {
  "name": ""
 },
 "nbformat": 3,
 "nbformat_minor": 0,
 "worksheets": [
  {
   "cells": [
    {
     "cell_type": "markdown",
     "metadata": {},
     "source": [
      "# Proyecto 2\n",
      "\n",
      "## M\u00e9todos multipaso\n",
      "\n",
      "En este proyecto se trata de estudiar los m\u00e9todos multipaso para resolver problemas de valor inicial. Puede verse una introducci\u00f3n a estos m\u00e9todos en el apartado 4.6 de los apuntes de la asignatura correspondientes al curso anterior (2013/2014).\n",
      "\n",
      "En un m\u00e9todo de $k$ pasos (sidendo $k\\in\\mathbb N$ fijo) para calcular la sucesi\u00f3n en la etapa $n+k$ se utilizan los valores obtenidos en $k$ etapas anteriores (o sea, en las etapas $n$, $n+1$,..., $n+k-1$), adem\u00e1s de la etapa $n+k$.\n",
      "\n",
      "Antes de arrancar el m\u00e9todo, s\u00f3lo conocemos el valor de $y_0$. Por tanto, por tanto (para $n=0$), antes de calcular $y_k$, es necesario aproximar $y_1$, $y_2$, ..., $y_{k-1}$. Esto se suele hacer mediante un m\u00e9todo de un paso adecuado (adecuado significa que tenga el mismo orden que el m\u00e9todo multipaso que vayamos a utilizar).\n",
      "\n",
      "En esta pr\u00e1ctica se propone:\n",
      "\n",
      "1. Elegir uno o varios problemas de valor inicial que se consideren interesantes (por ejemplo, extra\u00eddos de la bibliograf\u00eda de esta u otras asignaturas, ecuaciones que provengan del \u00e1mbito de la Ciencia, etc.). \n",
      "\n",
      "2. Estudiar los m\u00e9todos multipaso (al menos, a nivel de introducci\u00f3n, es decir, sin entrar en detalles).\n",
      "\n",
      "3. Utilizar alg\u00fan m\u00e9todo multipaso para su resoluci\u00f3n num\u00e9rica. Comprobar que la soluci\u00f3n obtenida se corresponde con la soluci\u00f3n exacta o bien con la soluci\u00f3n aproximada que proporciona Python."
     ]
    },
    {
     "cell_type": "markdown",
     "metadata": {},
     "source": [
      "### Ejemplo: el m\u00e9todo de Adams-Bashforth de orden 2\n",
      "\n",
      "Como modelo, se muestra un ejercicio en el que se usa esquema expl\u00edcito de Adams-Bashforth de orden 2 (y de 2 pasos). Adem\u00e1s de \u00e9ste, otros esquemas interesantes (que se pueden usar en este proyecto, si se desea) son:\n",
      "- Esquemas expl\u00edcitos de Adams-Bashfort de mayor orden, por ejemplo de orden 4 (y 4 pasos).\n",
      "- Esquemas de tipo predictor-corrector, de orden 2 (2 pasos), de orden 4 (4 pasos) etc.\n",
      "\n",
      "Para conocer estos esquemas, consultar la bibliograf\u00eda, los apuntes del a\u00f1o anterior o realizar una b\u00fasqueda en internet (o hablar con el profesor de la asignatura).\n",
      "\n",
      "Aproximar la soluci\u00f3n del problema de Cauchy\n",
      "\n",
      "$$\n",
      "y'=x^2 - \\sqrt{y-e^{x/2}}, \\quad x\\in[0,2], \\quad\n",
      "y(0)=5,\n",
      "$$\n",
      "con paso $h=0.1$, mediante el m\u00e9todo de Adams--Bashforth de orden dos (que es un m\u00e9todo de dos pasos), descrito a continuaci\u00f3n:\n",
      "> $$\n",
      "y_{n+2}=y_{n+1} + \\frac{h}{2} \\big[3f(t_{n+1},y_{n+1}) - f(t_{n},y_{n}) \\big].\n",
      "$$\n",
      "\n",
      "Para arrancar el m\u00e9todo, es necesario aproximar $y_1$. Utilizar un m\u00e9todo de un paso adecuado (es decir, un m\u00e9todo de un paso que tenga orden $2$)."
     ]
    },
    {
     "cell_type": "markdown",
     "metadata": {},
     "source": [
      "#### Resoluci\u00f3n del ejercicio anterior"
     ]
    },
    {
     "cell_type": "code",
     "collapsed": false,
     "input": [
      "def f(t, y): return t**2 - sqrt(y-exp(t/2))\n",
      "a, b = 0, 2\n",
      "h = 0.1\n",
      "y_a = 5\n",
      "\n",
      "def AB2(f, y_a, a, b, h):\n",
      "    \"\"\"Calcula la soluci\u00f3n de y'=f(t,y) mediante el m\u00e9t. AB2.\"\"\"\n",
      "    N = int( round((b-a)/h) )\n",
      "    soporte = linspace(a, b, N+1)\n",
      "    \n",
      "    # (1) Inicializaci\u00f3n, por ejemplo mediante Euler-Cauchy (que tiene orden 2)\n",
      "    sol = [y_a] # Almacenamos y_0\n",
      "    yn = y_a\n",
      "    for i in range(1): # S\u00f3lo daremos un paso en E-Cauchy, calculando y_1\n",
      "        tn = soporte[i]\n",
      "        k1 = yn + h/2 * f(tn, yn)\n",
      "        yn = yn + h*f(tn + h/2, k1) # E-Cauchy\n",
      "        sol.append(yn)\n",
      "        \n",
      "    # (2) Iteraciones del m\u00e9todo predictor-corrector AB2-AM2\n",
      "    y0 = sol[0]; y1 = sol[1];\n",
      "    f0 = f(a, y0); f1 = f(a+h, y1);\n",
      "    for i in range(N-1): # i = 0, 1, ..., N-2\n",
      "        # a) C\u00e1lculo de $y_{n+2}$\n",
      "        yn = yn + h/2 * (3*f1 - f0)\n",
      "        sol.append(yn)\n",
      "        # b) Preparamos la siguiente iteraci\u00f3n\n",
      "        tn = soporte[i+2] # Ponemos el tiempo en $t_{n+2}$\n",
      "        f0 = f1; f1 = f(tn, yn) # Calculamos f en $t_{n+2}$\n",
      "    return soporte, sol\n",
      "\n",
      "soporte, sol_ab2 = AB2(f, y_a, a, b, h)"
     ],
     "language": "python",
     "metadata": {},
     "outputs": [],
     "prompt_number": 2
    },
    {
     "cell_type": "code",
     "collapsed": false,
     "input": [
      "xx = linspace(a,b,100)\n",
      "from scipy.integrate import odeint\n",
      "def func(y, t): return f(t,y)\n",
      "sol_python = odeint(func, y_a, xx)\n",
      "plot(xx, sol_python, label=u'Soluci\u00f3n Python')\n",
      "\n",
      "plot(soporte, sol_ab2, 'o', c='red',  label='AB2, paso ' + str(h))\n",
      "legend(loc='best')\n",
      "grid()"
     ],
     "language": "python",
     "metadata": {},
     "outputs": [
      {
       "metadata": {},
       "output_type": "display_data",
       "png": "[encoded data removed]",
       "text": [
        "<matplotlib.figure.Figure at 0x7fddb5726cd0>"
       ]
      }
     ],
     "prompt_number": 3
    },
    {
     "cell_type": "code",
     "collapsed": false,
     "input": [],
     "language": "python",
     "metadata": {},
     "outputs": []
    }
   ],
   "metadata": {}
  }
 ]
}