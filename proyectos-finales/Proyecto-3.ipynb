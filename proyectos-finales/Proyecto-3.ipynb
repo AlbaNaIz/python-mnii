{
 "metadata": {
  "name": "Proyecto-3"
 },
 "nbformat": 3,
 "nbformat_minor": 0,
 "worksheets": [
  {
   "cells": [
    {
     "cell_type": "markdown",
     "metadata": {},
     "source": [
      "# Proyecto 3\n",
      "\n",
      "## \u00d3rbitas de los planetas\n",
      "\n",
      "Un ejemplo muy interesantes de resoluci\u00f3n de un sistema de ecuaciones diferenciales\n",
      "es la descripci\u00f3n del movimiento de los planetas, el cual tiene una soluci\u00f3n anal\u00edtica sencilla en coordenadas polares. No obstante, el solucionar num\u00e9ricamente las ecuaciones nos permite acceder a problemas m\u00e1s complejos, en los que la soluci\u00f3n no ser\u00e1 conocida (en general).\n",
      "\n",
      "La dificultad es que las ecuaciones de movimentos de dos planetas viene dado por un sistema de ecuaciones en coordenadas polares (con inc\u00f3gnias $\\rho$ y $\\theta$). Adem\u00e1s, cada ecuaci\u00f3n es de segundo orden, lo que en la pr\u00e1ctica significa que cada una de ellas se descompone, a su vez, endos ecuaciones de primer orden.\n",
      "\n",
      "En definitiva, tendremos que resolver cuatro ecuaciones diferenciales. Habitualmente, para su resoluci\u00f3n se utilizan esquemas de Runge-Kuta (orden 4).\n",
      "\n",
      "En la siguiente p\u00e1gina web, http://www.sc.ehu.es/sbweb/fisica/cursoJava/numerico/eDiferenciales/rungeKutta1/rungeKutta11.htm, se detalla su implementaci\u00f3n en lenguaje Java.\n",
      "\n",
      "La idea de esta pr\u00e1ctica es adaptar al lenguaje Python la implementaci\u00f3n dada en la p\u00e1gina anterior.\n",
      "\n",
      "**Dificultad** Dif\u00edcil (se puede contar con el apoyo del profesor de la aisngatura)."
     ]
    },
    {
     "cell_type": "code",
     "collapsed": false,
     "input": [],
     "language": "python",
     "metadata": {},
     "outputs": []
    }
   ],
   "metadata": {}
  }
 ]
}