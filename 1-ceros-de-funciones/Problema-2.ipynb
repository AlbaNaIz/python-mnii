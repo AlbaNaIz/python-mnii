{
 "cells": [
  {
   "cell_type": "markdown",
   "metadata": {
    "deletable": true,
    "editable": true
   },
   "source": [
    "# Método de Punto fijo."
   ]
  },
  {
   "cell_type": "markdown",
   "metadata": {
    "deletable": true,
    "editable": true
   },
   "source": [
    "Consideremos el problema de punto fijo $x=g(x)$, con \n",
    "\n",
    "> $$g(x)=\\frac{1}{2+x}.$$  \n",
    "\n",
    "Probar que existe una única solución en el intervalo $[0,1]$ y que método de aproximaciones sucesivas $x_{k+1}=g(x_k)$ converge hacia una solución para cualquier inicialización, $x_0\\in[0,1]$. Aproximar la solución con un error menor que $\\varepsilon=10^{-8}$."
   ]
  },
  {
   "cell_type": "markdown",
   "metadata": {
    "deletable": true,
    "editable": true
   },
   "source": [
    "Veamos que $g$ está en las hipótesis del teorema de punto fijo en $[0,1]$ (lo que implica la existencia de un único punto fijo al que converge el método de aproximaciones sucesivas).\n",
    "\n",
    "### Hiṕótesis 1: $g([0,1])\\subset [0,1]$:\n",
    "\n",
    "* Es fácil ver que $g$ es decreciente en $[0,1]$, pues es derivable en todo este intervalo y $g'(x)=\\frac{-1}{(2+x)^2}$\n",
    "* Por lo tanto basta ver que $g(0)\\in [0,1]$ y $g(1)\\in [0,1]$. Pero esto es muy fácil: $g(0)= 1/2$, $g(1)=1/3 \\in [0,1]$\n"
   ]
  },
  {
   "cell_type": "markdown",
   "metadata": {
    "deletable": true,
    "editable": true
   },
   "source": [
    "### Hipótesis 2: $|g'(x)|<1$ para todo $x\\in [0,1]$\n",
    "\n",
    "Ver que $|g'(x)|<1$ para todo $x\\in [0,+\\infty)$ es fácil: Si $x\\ge 0$, tenemos $2+x \\ge 2$ y así $|g'(x)|=\\frac{1}{(2+x)^2} \\le \\frac{1}{4} < 1$."
   ]
  },
  {
   "cell_type": "markdown",
   "metadata": {
    "deletable": true,
    "editable": true
   },
   "source": [
    "### Aproximación del punto fijo"
   ]
  },
  {
   "cell_type": "code",
   "execution_count": 1,
   "metadata": {
    "collapsed": false,
    "deletable": true,
    "editable": true
   },
   "outputs": [],
   "source": [
    "from __future__ import division, print_function # Sólo para Python 2\n",
    "import numpy as np\n",
    "import matplotlib.pyplot as plt"
   ]
  },
  {
   "cell_type": "code",
   "execution_count": 2,
   "metadata": {
    "collapsed": false,
    "deletable": true,
    "editable": true
   },
   "outputs": [],
   "source": [
    "g = lambda x: 1.0/(2+x)\n",
    "\n",
    "x = np.linspace(0,1)\n",
    "plt.plot(x, x, \"--\", color=\"black\", linewidth=2, label=\"$y=x$\")\n",
    "plt.plot(x, g(x), color=\"red\", linewidth=4, label=r\"$y=g(x)=(2+x)^{-1}$\")\n",
    "plt.legend()\n",
    "plt.grid()"
   ]
  },
  {
   "cell_type": "markdown",
   "metadata": {
    "deletable": true,
    "editable": true
   },
   "source": [
    "Geométricamente, el punto fijo parece estar en torno a $x=0.4$ (intersección de las curvas $y=x$ e $y=g(x)$). Vamos a aproximar la solución mediante el método de punto fijo (o de aproximaciones sucesivas):"
   ]
  },
  {
   "cell_type": "code",
   "execution_count": 3,
   "metadata": {
    "collapsed": false,
    "deletable": true,
    "editable": true
   },
   "outputs": [
    {
     "name": "stdout",
     "output_type": "stream",
     "text": [
      "Aproximación del pto. fijo: 0.414213562364\n",
      "Número de iteraciones: 12\n"
     ]
    }
   ],
   "source": [
    "def punto_fijo(g, x0, tol=1e-10, maxiter=100):\n",
    "    \"\"\"Cálculo de un punto fijo de la función g(x) mediante el\n",
    "    método de aproximaciones sucesivas, $x_{k+1} = g(x_k)$.\n",
    "    \n",
    "    Argumentos:\n",
    "        g: Función considerada\n",
    "        x0 : Estimación inicial del punto fijo\n",
    "        tol: Tolerancia (diferencia entre dos iteraciones sucesivas)\n",
    "        maxiter: Número máximo de iteraciones admitidas\n",
    "    Valores devueltos: (x, niter) con\n",
    "        x: Aproximación del punto fijo\n",
    "        niter: Número de iteraciones realizadas\n",
    "    \"\"\"\n",
    "    k = 0\n",
    "    while k<maxiter:\n",
    "        x1 = g(x0) # Iteración de punto fijo\n",
    "        if abs(x1-x0) < tol: break        \n",
    "        x0 = x1 # Preparamos la siguiente iteración\n",
    "        k = k+1\n",
    "        \n",
    "    # Si se llegó al número máximo de iteraciones, lanzar una excepción\n",
    "    if k==maxiter: \n",
    "        raise ValueError(\"Error de convergencia!\") \n",
    "        \n",
    "    # Si todo fue bien, devolvemos la solución y el número de iteraciones\n",
    "    return x1, k\n",
    "  \n",
    "x, niter = punto_fijo(g, 0.5)\n",
    "print(\"Aproximación del pto. fijo:\", x)\n",
    "print(\"Número de iteraciones:\", niter)"
   ]
  },
  {
   "cell_type": "code",
   "execution_count": 4,
   "metadata": {
    "collapsed": false,
    "deletable": true,
    "editable": true
   },
   "outputs": [
    {
     "name": "stdout",
     "output_type": "stream",
     "text": [
      "Residuo, |x-g(x)| = 1.0890344182e-11\n"
     ]
    }
   ],
   "source": [
    "# Como estimación del resultado, podemos analizar el \"residuo\" de la aproximación\n",
    "print (\"Residuo, |x-g(x)| =\", abs(x-g(x)))"
   ]
  },
  {
   "cell_type": "code",
   "execution_count": 5,
   "metadata": {
    "collapsed": false,
    "deletable": true,
    "editable": true
   },
   "outputs": [
    {
     "ename": "NameError",
     "evalue": "name 'linspace' is not defined",
     "output_type": "error",
     "traceback": [
      "\u001b[0;31m---------------------------------------------------------------------------\u001b[0m\n\u001b[0;31mNameError\u001b[0m                                 Traceback (most recent call last)",
      "\u001b[0;32m<ipython-input-5-62595eaa5652>\u001b[0m in \u001b[0;36m<module>\u001b[0;34m()\u001b[0m\n\u001b[1;32m      2\u001b[0m \u001b[0;32mdef\u001b[0m \u001b[0mdf\u001b[0m\u001b[0;34m(\u001b[0m\u001b[0mx\u001b[0m\u001b[0;34m)\u001b[0m\u001b[0;34m:\u001b[0m \u001b[0;32mreturn\u001b[0m \u001b[0;36m2\u001b[0m\u001b[0;34m*\u001b[0m\u001b[0mexp\u001b[0m\u001b[0;34m(\u001b[0m\u001b[0mx\u001b[0m\u001b[0;34m)\u001b[0m\u001b[0;34m-\u001b[0m\u001b[0;36m2\u001b[0m\u001b[0;34m*\u001b[0m\u001b[0;34m(\u001b[0m\u001b[0mx\u001b[0m\u001b[0;34m+\u001b[0m\u001b[0;36m0.5\u001b[0m\u001b[0;34m)\u001b[0m\u001b[0;34m\u001b[0m\u001b[0m\n\u001b[1;32m      3\u001b[0m \u001b[0;34m\u001b[0m\u001b[0m\n\u001b[0;32m----> 4\u001b[0;31m \u001b[0mx\u001b[0m \u001b[0;34m=\u001b[0m \u001b[0mlinspace\u001b[0m\u001b[0;34m(\u001b[0m\u001b[0;34m-\u001b[0m\u001b[0;36m2\u001b[0m\u001b[0;34m,\u001b[0m\u001b[0;34m-\u001b[0m\u001b[0;36m1\u001b[0m\u001b[0;34m)\u001b[0m\u001b[0;34m\u001b[0m\u001b[0m\n\u001b[0m\u001b[1;32m      5\u001b[0m \u001b[0mplot\u001b[0m\u001b[0;34m(\u001b[0m\u001b[0mx\u001b[0m\u001b[0;34m,\u001b[0m \u001b[0mf\u001b[0m\u001b[0;34m(\u001b[0m\u001b[0mx\u001b[0m\u001b[0;34m)\u001b[0m\u001b[0;34m)\u001b[0m\u001b[0;34m\u001b[0m\u001b[0m\n\u001b[1;32m      6\u001b[0m \u001b[0mgrid\u001b[0m\u001b[0;34m(\u001b[0m\u001b[0;34m)\u001b[0m\u001b[0;34m\u001b[0m\u001b[0m\n",
      "\u001b[0;31mNameError\u001b[0m: name 'linspace' is not defined"
     ]
    }
   ],
   "source": [
    "def f(x): return 2*exp(x) - (x+0.5)**2\n",
    "def df(x): return 2*exp(x)-2*(x+0.5)\n",
    "\n",
    "x = linspace(-2,-1)\n",
    "plot(x, f(x))\n",
    "grid()"
   ]
  },
  {
   "cell_type": "code",
   "execution_count": null,
   "metadata": {
    "collapsed": false,
    "deletable": true,
    "editable": true
   },
   "outputs": [],
   "source": [
    "def newton(f, df, x0, tol):\n",
    "    \"\"\"Función de punto fijo\"\"\"\n",
    "    \n",
    "    max_iters = 100\n",
    "    iter = 0\n",
    "    while iter<max_iters:\n",
    "        x1 = x0-f(x0)/df(x0) # Punto fijo\n",
    "        if abs(x1-x0) < tol:\n",
    "            return x1\n",
    "        x0 = x1\n",
    "        iter = iter+1\n",
    "    print \"Error de convergencia\"\n",
    "    \n",
    "x = punto_fijo(g, 0.5, 1e-8)\n",
    "print x"
   ]
  }
 ],
 "metadata": {
  "kernelspec": {
   "display_name": "Python 3",
   "language": "python",
   "name": "python3"
  },
  "language_info": {
   "codemirror_mode": {
    "name": "ipython",
    "version": 3
   },
   "file_extension": ".py",
   "mimetype": "text/x-python",
   "name": "python",
   "nbconvert_exporter": "python",
   "pygments_lexer": "ipython3",
   "version": "3.5.2"
  }
 },
 "nbformat": 4,
 "nbformat_minor": 0
}
