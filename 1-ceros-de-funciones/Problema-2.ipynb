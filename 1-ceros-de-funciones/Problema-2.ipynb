{
 "metadata": {
  "name": "",
  "signature": "sha256:0ecba56a0860b439ffb2f847bfc6a185ef6f9482c0c643d25d502c31af0dc3de"
 },
 "nbformat": 3,
 "nbformat_minor": 0,
 "worksheets": [
  {
   "cells": [
    {
     "cell_type": "heading",
     "level": 1,
     "metadata": {},
     "source": [
      "M\u00e9todo de Punto fijo."
     ]
    },
    {
     "cell_type": "markdown",
     "metadata": {},
     "source": [
      "Consideremos el problema de punto fijo $x=g(x)$, con \n",
      "\n",
      "> $$g(x)=\\frac{1}{2+x}.$$  \n",
      "\n",
      "Probar que existe una \u00fanica soluci\u00f3n en el intervalo $[0,1]$ y que m\u00e9todo de aproximaciones sucesivas $x_{k+1}=g(x_k)$ converge hacia una soluci\u00f3n para cualquier inicializaci\u00f3n, $x_0\\in[0,1]$. Aproximar la soluci\u00f3n con un error menor que $\\varepsilon=10^{-8}$."
     ]
    },
    {
     "cell_type": "markdown",
     "metadata": {},
     "source": [
      "Veamos que $g$ est\u00e1 en las hip\u00f3tesis del teorema de punto fijo en $[0,1]$ (lo que implica la existencia de un \u00fanico punto fijo al que converge el m\u00e9todo de aproximaciones sucesivas).\n",
      "\n",
      "### Hi\u1e55\u00f3tesis 1: $g([0,1])\\subset [0,1]$:\n",
      "\n",
      "* Es f\u00e1cil ver que $g$ es decreciente en $[0,1]$, pues es derivable en todo este intervalo y $g'(x)=\\frac{-1}{(2+x)^2}$\n",
      "* Por lo tanto basta ver que $g(0)\\in [0,1]$ y $g(1)\\in [0,1]$. Pero esto es muy f\u00e1cil: $g(0)= 1/2$, $g(1)=1/3 \\in [0,1]$\n"
     ]
    },
    {
     "cell_type": "markdown",
     "metadata": {},
     "source": [
      "### Hip\u00f3tesis 2: $|g'(x)|<1$ para todo $x\\in [0,1]$\n",
      "\n",
      "Ver que $|g'(x)|<1$ para todo $x\\in [0,+\\infty)$ es f\u00e1cil: Si $x\\ge 0$, tenemos $2+x \\ge 2$ y as\u00ed $|g'(x)|=\\frac{1}{(2+x)^2} \\le \\frac{1}{4} < 1$."
     ]
    },
    {
     "cell_type": "markdown",
     "metadata": {},
     "source": [
      "### Aproximaci\u00f3n del punto fijo"
     ]
    },
    {
     "cell_type": "code",
     "collapsed": false,
     "input": [
      "from __future__ import division, print_function # S\u00f3lo para Python 2\n",
      "import numpy as np\n",
      "import matplotlib.pyplot as plt"
     ],
     "language": "python",
     "metadata": {},
     "outputs": [],
     "prompt_number": 1
    },
    {
     "cell_type": "code",
     "collapsed": false,
     "input": [
      "g = lambda x: 1.0/(2+x)\n",
      "\n",
      "x = np.linspace(0,1)\n",
      "plt.plot(x, x, \"--\", color=\"black\", linewidth=2, label=\"$y=x$\")\n",
      "plt.plot(x, g(x), color=\"red\", linewidth=4, label=r\"$y=g(x)=(2+x)^{-1}$\")\n",
      "plt.legend()\n",
      "plt.grid()"
     ],
     "language": "python",
     "metadata": {},
     "outputs": [],
     "prompt_number": 2
    },
    {
     "cell_type": "markdown",
     "metadata": {},
     "source": [
      "Geom\u00e9tricamente, el punto fijo parece estar en torno a $x=0.4$ (intersecci\u00f3n de las curvas $y=x$ e $y=g(x)$). Vamos a aproximar la soluci\u00f3n mediante el m\u00e9todo de punto fijo (o de aproximaciones sucesivas):"
     ]
    },
    {
     "cell_type": "code",
     "collapsed": false,
     "input": [
      "def punto_fijo(g, x0, tol=1e-10, maxiter=100):\n",
      "    \"\"\"C\u00e1lculo de un punto fijo de la funci\u00f3n g(x) mediante el\n",
      "    m\u00e9todo de aproximaciones sucesivas, $x_{k+1} = g(x_k)$.\n",
      "    \n",
      "    Argumentos:\n",
      "        g: Funci\u00f3n considerada\n",
      "        x0 : Estimaci\u00f3n inicial del punto fijo\n",
      "        tol: Tolerancia (diferencia entre dos iteraciones sucesivas)\n",
      "        maxiter: N\u00famero m\u00e1ximo de iteraciones admitidas\n",
      "    Valores devueltos: (x, niter) con\n",
      "        x: Aproximaci\u00f3n del punto fijo\n",
      "        niter: N\u00famero de iteraciones realizadas\n",
      "    \"\"\"\n",
      "    k = 0\n",
      "    while k<maxiter:\n",
      "        x1 = g(x0) # Iteraci\u00f3n de punto fijo\n",
      "        if abs(x1-x0) < tol: break        \n",
      "        x0 = x1 # Preparamos la siguiente iteraci\u00f3n\n",
      "        k = k+1\n",
      "        \n",
      "    # Si se lleg\u00f3 al n\u00famero m\u00e1ximo de iteraciones, lanzar una excepci\u00f3n\n",
      "    if k==maxiter: \n",
      "        raise ValueError(\"Error de convergencia!\") \n",
      "        \n",
      "    # Si todo fue bien, devolvemos la soluci\u00f3n y el n\u00famero de iteraciones\n",
      "    return x1, k\n",
      "  \n",
      "x, niter = punto_fijo(g, 0.5)\n",
      "print(\"Aproximaci\u00f3n del pto. fijo:\", x)\n",
      "print(\"N\u00famero de iteraciones:\", niter)"
     ],
     "language": "python",
     "metadata": {},
     "outputs": [
      {
       "output_type": "stream",
       "stream": "stdout",
       "text": [
        "Aproximaci\u00f3n del pto. fijo: 0.414213562364\n",
        "N\u00famero de iteraciones: 12\n"
       ]
      }
     ],
     "prompt_number": 3
    },
    {
     "cell_type": "code",
     "collapsed": false,
     "input": [
      "# Como estimaci\u00f3n del resultado, podemos analizar el \"residuo\" de la aproximaci\u00f3n\n",
      "print (\"Residuo, |x-g(x)| =\", abs(x-g(x)))"
     ],
     "language": "python",
     "metadata": {},
     "outputs": [
      {
       "output_type": "stream",
       "stream": "stdout",
       "text": [
        "Residuo, |x-g(x)| = 1.0890344182e-11\n"
       ]
      }
     ],
     "prompt_number": 4
    },
    {
     "cell_type": "code",
     "collapsed": false,
     "input": [
      "def f(x): return 2*exp(x) - (x+0.5)**2\n",
      "def df(x): return 2*exp(x)-2*(x+0.5)\n",
      "\n",
      "x = linspace(-2,-1)\n",
      "plot(x, f(x))\n",
      "grid()"
     ],
     "language": "python",
     "metadata": {},
     "outputs": [
      {
       "ename": "NameError",
       "evalue": "name 'linspace' is not defined",
       "output_type": "pyerr",
       "traceback": [
        "\u001b[0;31m---------------------------------------------------------------------------\u001b[0m\n\u001b[0;31mNameError\u001b[0m                                 Traceback (most recent call last)",
        "\u001b[0;32m<ipython-input-5-62595eaa5652>\u001b[0m in \u001b[0;36m<module>\u001b[0;34m()\u001b[0m\n\u001b[1;32m      2\u001b[0m \u001b[0;32mdef\u001b[0m \u001b[0mdf\u001b[0m\u001b[0;34m(\u001b[0m\u001b[0mx\u001b[0m\u001b[0;34m)\u001b[0m\u001b[0;34m:\u001b[0m \u001b[0;32mreturn\u001b[0m \u001b[0;36m2\u001b[0m\u001b[0;34m*\u001b[0m\u001b[0mexp\u001b[0m\u001b[0;34m(\u001b[0m\u001b[0mx\u001b[0m\u001b[0;34m)\u001b[0m\u001b[0;34m-\u001b[0m\u001b[0;36m2\u001b[0m\u001b[0;34m*\u001b[0m\u001b[0;34m(\u001b[0m\u001b[0mx\u001b[0m\u001b[0;34m+\u001b[0m\u001b[0;36m0.5\u001b[0m\u001b[0;34m)\u001b[0m\u001b[0;34m\u001b[0m\u001b[0m\n\u001b[1;32m      3\u001b[0m \u001b[0;34m\u001b[0m\u001b[0m\n\u001b[0;32m----> 4\u001b[0;31m \u001b[0mx\u001b[0m \u001b[0;34m=\u001b[0m \u001b[0mlinspace\u001b[0m\u001b[0;34m(\u001b[0m\u001b[0;34m-\u001b[0m\u001b[0;36m2\u001b[0m\u001b[0;34m,\u001b[0m\u001b[0;34m-\u001b[0m\u001b[0;36m1\u001b[0m\u001b[0;34m)\u001b[0m\u001b[0;34m\u001b[0m\u001b[0m\n\u001b[0m\u001b[1;32m      5\u001b[0m \u001b[0mplot\u001b[0m\u001b[0;34m(\u001b[0m\u001b[0mx\u001b[0m\u001b[0;34m,\u001b[0m \u001b[0mf\u001b[0m\u001b[0;34m(\u001b[0m\u001b[0mx\u001b[0m\u001b[0;34m)\u001b[0m\u001b[0;34m)\u001b[0m\u001b[0;34m\u001b[0m\u001b[0m\n\u001b[1;32m      6\u001b[0m \u001b[0mgrid\u001b[0m\u001b[0;34m(\u001b[0m\u001b[0;34m)\u001b[0m\u001b[0;34m\u001b[0m\u001b[0m\n",
        "\u001b[0;31mNameError\u001b[0m: name 'linspace' is not defined"
       ]
      }
     ],
     "prompt_number": 5
    },
    {
     "cell_type": "code",
     "collapsed": false,
     "input": [
      "def newton(f, df, x0, tol):\n",
      "    \"\"\"Funci\u00f3n de punto fijo\"\"\"\n",
      "    \n",
      "    max_iters = 100\n",
      "    iter = 0\n",
      "    while iter<max_iters:\n",
      "        x1 = x0-f(x0)/df(x0) # Punto fijo\n",
      "        if abs(x1-x0) < tol:\n",
      "            return x1\n",
      "        x0 = x1\n",
      "        iter = iter+1\n",
      "    print \"Error de convergencia\"\n",
      "    \n",
      "x = punto_fijo(g, 0.5, 1e-8)\n",
      "print x"
     ],
     "language": "python",
     "metadata": {},
     "outputs": []
    }
   ],
   "metadata": {}
  }
 ]
}