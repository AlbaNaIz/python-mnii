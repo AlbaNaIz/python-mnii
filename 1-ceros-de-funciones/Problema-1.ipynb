{
 "metadata": {
  "name": "",
  "signature": "sha256:a05fb54e96d8cb12b575ab399f9de34d10fcecf633257b22c1564b902776f55e"
 },
 "nbformat": 3,
 "nbformat_minor": 0,
 "worksheets": [
  {
   "cells": [
    {
     "cell_type": "heading",
     "level": 1,
     "metadata": {},
     "source": [
      "Problema 1"
     ]
    },
    {
     "cell_type": "markdown",
     "metadata": {},
     "source": [
      "Demostrar que la funci\u00f3n $f(x)=x^2e^{x}-1$ tiene un \u00fanico cero. Utilizar el m\u00e9todo de bisecci\u00f3n para aproximarlo con un  error menor que $\\varepsilon=10^{-7}$. Comparar el resultado con la soluci\u00f3n aproximada que proporciona la funci\u00f3n `fsolve` (contenida en el paquete `optimize` de *Scipy*)."
     ]
    },
    {
     "cell_type": "code",
     "collapsed": false,
     "input": [
      "from __future__ import division, print_function\n",
      "import numpy as np\n",
      "import matplotlib.pyplot as plt\n",
      "def pinta_ejes(): \n",
      "    plt.axhline(c='k')\n",
      "    plt.axvline(c='k')\n",
      "    plt.grid()"
     ],
     "language": "python",
     "metadata": {},
     "outputs": [],
     "prompt_number": 1
    },
    {
     "cell_type": "markdown",
     "metadata": {},
     "source": [
      "Como ayuda para localizar el cero de $f$, podemos dibujar la gr\u00e1fica de la funci\u00f3n."
     ]
    },
    {
     "cell_type": "code",
     "collapsed": false,
     "input": [
      "f = lambda x: x**2 *np.exp(x) -1\n",
      "x = np.linspace(-5,1)\n",
      "plt.plot(x, f(x), linewidth=3)\n",
      "pinta_ejes()"
     ],
     "language": "python",
     "metadata": {},
     "outputs": [],
     "prompt_number": 2
    },
    {
     "cell_type": "markdown",
     "metadata": {},
     "source": [
      "En realidad, nos bastar\u00eda con un boceto de la gr\u00e1fica. Este tipo de figuras son m\u00e1s divertidas las dibujamos con el estilo [xkcd](http://xkcd.com/) :)"
     ]
    },
    {
     "cell_type": "code",
     "collapsed": false,
     "input": [
      "x = np.linspace(-5,1)\n",
      "with plt.xkcd():\n",
      "    plt.plot(x,f(x),lw=3)\n",
      "    pinta_ejes()"
     ],
     "language": "python",
     "metadata": {},
     "outputs": [],
     "prompt_number": 3
    },
    {
     "cell_type": "markdown",
     "metadata": {},
     "source": [
      "En cualquier caso, la gr\u00e1fica sugiere que $f$ tiene un \u00fanico cero. Vamos demostrarlo: \n",
      "\n",
      "* $f'(x)= 2x e^x + x^2 e^x = x(x+2)e^x$. Luego $f'(x)=0$ si $x=0$ o $x=-2$.\n",
      "* $f''(x) = 2e^x+2xe^x + 2xe^x+x^2e^x = (2+4x+x^2)e^x$.\n",
      "\n",
      "  * $f''(-2)= (2 - 8 + 4)e^{-2} < 0$ luego hay un m\u00e1ximo local en $x=-2$. La funci\u00f3n crece en $(-\\infty,-2)$ y decrece en $(-2,0)$. Pero como $f(-2)<0$, no hay ning\u00fan cero en $(-\\infty, 0)$.\n",
      "  \n",
      "  * $f''(0)=2 > 0$, luego hay un m\u00ednimo local en $x=-2$ y $f$ crece (estrictamente) a partir de $x=0$. Por lo tanto, si existe alg\u00fan cero positivo, este ser\u00e1 \u00fanico.\n",
      "\n",
      "Ahora podemos utilizar el teorema de Bolzano para hallar un intervalo donde existe un \u00fanico cero. Y, a continuaci\u00f3n, aplicamos el m\u00e9todo de bisecci\u00f3n:"
     ]
    },
    {
     "cell_type": "code",
     "collapsed": false,
     "input": [
      "a=0\n",
      "b=1\n",
      "print(\"f(a) =\", f(a), \"  f(b) =\", f(b))\n",
      "assert(f(a)*f(b)<0)"
     ],
     "language": "python",
     "metadata": {},
     "outputs": [
      {
       "output_type": "stream",
       "stream": "stdout",
       "text": [
        "f(a) = -1.0   f(b) = 1.71828182846\n"
       ]
      }
     ],
     "prompt_number": 4
    },
    {
     "cell_type": "code",
     "collapsed": false,
     "input": [
      "# M\u00e9todo de bisecci\u00f3n\n",
      "def biseccion(f, a, b, tol=1.e-6, max_iters=100):\n",
      "    \"\"\"\n",
      "    Argumentos:\n",
      "        f : Funci\u00f3n de la que deseamos aproximar un cero\n",
      "        a, b: Intervalo donde se localiza el cero\n",
      "        tol: Tolerancia\n",
      "        max_iters: N\u00famero m\u00e1ximo de iteraciones\n",
      "    Valores devueltos: (x, niter), donde\n",
      "        x : Aproximaci\u00f3n del cero de f\n",
      "        niter : n\u00famero de iteraciones realizadas\n",
      "    \"\"\"\n",
      "    iter = 0\n",
      "    while b-a >= tol and iter < max_iters:\n",
      "        c = (a+b)/2.0\n",
      "        if abs(f(c))<1e-16: break # Improbable, pero encontramos el cero!\n",
      "        if f(a)*f(c) < 0: # Localizar el el subintervalo donde est\u00e1 el cero\n",
      "            b=c\n",
      "        else: \n",
      "            a=c\n",
      "        iter = iter + 1 # Pasar a la siguiente iteraci\u00f3n\n",
      "    return c, iter"
     ],
     "language": "python",
     "metadata": {},
     "outputs": [],
     "prompt_number": 5
    },
    {
     "cell_type": "code",
     "collapsed": false,
     "input": [
      "help(biseccion)\n",
      "x, niter = biseccion(f, a, b, 10**(-7), 100)\n",
      "print(\"Aproximaci\u00f3n del cero de f: x =\", x, \",  niter =\", niter)"
     ],
     "language": "python",
     "metadata": {},
     "outputs": [
      {
       "output_type": "stream",
       "stream": "stdout",
       "text": [
        "Help on function biseccion in module __main__:\n",
        "\n",
        "biseccion(f, a, b, tol=1e-06, max_iters=100)\n",
        "    Argumentos:\n",
        "        f : Funci\u00f3n de la que deseamos aproximar un cero\n",
        "        a, b: Intervalo donde se localiza el cero\n",
        "        tol: Tolerancia\n",
        "        max_iters: N\u00famero m\u00e1ximo de iteraciones\n",
        "    Valores devueltos: (x, niter), donde\n",
        "        x : Aproximaci\u00f3n del cero de f\n",
        "        niter : n\u00famero de iteraciones realizadas\n",
        "\n",
        "Aproximaci\u00f3n del cero de f: x = 0.703467428684 ,  niter = 24\n"
       ]
      }
     ],
     "prompt_number": 6
    },
    {
     "cell_type": "markdown",
     "metadata": {},
     "source": [
      "Recordemos que, para el m\u00e9todo de bisecci\u00f3n, el error en $k$ iteraciones est\u00e1 acotado por $(b-a)/2^k$. En este caso, el error es menor que:"
     ]
    },
    {
     "cell_type": "code",
     "collapsed": false,
     "input": [
      "(b-a)/2**niter"
     ],
     "language": "python",
     "metadata": {},
     "outputs": [
      {
       "metadata": {},
       "output_type": "pyout",
       "prompt_number": 7,
       "text": [
        "5.960464477539063e-08"
       ]
      }
     ],
     "prompt_number": 7
    },
    {
     "cell_type": "markdown",
     "metadata": {},
     "source": [
      "Comparamos con la funci\u00f3n `fsolve` de Python (que est\u00e1 en el paquete `optimize`). \n",
      "Para m\u00e1s informaci\u00f3n, se puede escribir \"`help(fsolve)`\" o conslutar su documentaci\u00f3n,\n",
      "http://www.scipy.org/getting-started.html"
     ]
    },
    {
     "cell_type": "code",
     "collapsed": false,
     "input": [
      "from scipy.optimize import fsolve\n",
      "fsolve(f, 1.0)"
     ],
     "language": "python",
     "metadata": {},
     "outputs": [
      {
       "metadata": {},
       "output_type": "pyout",
       "prompt_number": 8,
       "text": [
        "array([ 0.70346742])"
       ]
      }
     ],
     "prompt_number": 8
    }
   ],
   "metadata": {}
  }
 ]
}