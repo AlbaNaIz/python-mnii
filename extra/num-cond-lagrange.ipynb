{
 "metadata": {
  "kernelspec": {
   "display_name": "Python 3",
   "language": "python",
   "name": "python3"
  },
  "language_info": {
   "codemirror_mode": {
    "name": "ipython",
    "version": 3
   },
   "file_extension": ".py",
   "mimetype": "text/x-python",
   "name": "python",
   "nbconvert_exporter": "python",
   "pygments_lexer": "ipython3",
   "version": "3.4.3+"
  },
  "name": "",
  "signature": "sha256:e2ea768d42b3155161827d08defbef9235cc242b269f47d7b393e27fc0326cc4"
 },
 "nbformat": 3,
 "nbformat_minor": 0,
 "worksheets": [
  {
   "cells": [
    {
     "cell_type": "markdown",
     "metadata": {},
     "source": [
      "Breve introducci\u00f3n a Python simb\u00f3lico (paquete SymPy)"
     ]
    },
    {
     "cell_type": "heading",
     "level": 2,
     "metadata": {},
     "source": [
      "Introducci\u00f3n"
     ]
    },
    {
     "cell_type": "heading",
     "level": 2,
     "metadata": {},
     "source": [
      "Activaci\u00f3n de SymPy y primeros ejemplos"
     ]
    },
    {
     "cell_type": "code",
     "collapsed": false,
     "input": [
      "import sympy # Cargar paquete de Python Simb\u00f3lico\n",
      "sympy.init_session() # Iniciar sesi\u00f3n simb\u00f3lica, cargando impl\u00edcitamente variables en el espacio de nombres actual \n",
      "\n",
      "# Numpy, etc\n",
      "import numpy as np\n",
      "import matplotlib.pyplot as plt\n",
      "from numpy.linalg import eig # Autovalores (eigenvalues)\n",
      "%matplotlib inline"
     ],
     "language": "python",
     "metadata": {},
     "outputs": [
      {
       "output_type": "stream",
       "stream": "stdout",
       "text": [
        "IPython console for SymPy 0.7.6.1 (Python 3.5.1-64-bit) (ground types: python)\n",
        "\n",
        "These commands were executed:\n",
        ">>> from __future__ import division\n",
        ">>> from sympy import *\n",
        ">>> x, y, z, t = symbols('x y z t')\n",
        ">>> k, m, n = symbols('k m n', integer=True)\n",
        ">>> f, g, h = symbols('f g h', cls=Function)\n",
        ">>> init_printing()\n",
        "\n",
        "Documentation can be found at http://www.sympy.org\n"
       ]
      }
     ],
     "prompt_number": 18
    },
    {
     "cell_type": "heading",
     "level": 2,
     "metadata": {},
     "source": [
      "Polinomios de Lagrange"
     ]
    },
    {
     "cell_type": "code",
     "collapsed": false,
     "input": [
      "def Lagrange (Lx, Ly):\n",
      "    \"\"\"Devuelve el polinomio que inerpola los valores Ly sobre\n",
      "    el conjunto de nodos Lx\"\"\"\n",
      "    X=sympy.symbols('x')\n",
      "    if  len(Lx)!= len(Ly):\n",
      "        print (\"ERROR\")\n",
      "        return 1\n",
      "    y=0\n",
      "    for k in range ( len(Lx) ):\n",
      "        t=1\n",
      "        for j in range ( len(Lx) ):\n",
      "            if j != k:\n",
      "                t=t* ( (X-Lx[j]) /(Lx[k]-Lx[j]) )\n",
      "        y+= t*Ly[k]\n",
      "    return y"
     ],
     "language": "python",
     "metadata": {},
     "outputs": [],
     "prompt_number": 2
    },
    {
     "cell_type": "code",
     "collapsed": false,
     "input": [
      "a, b = -1, 1"
     ],
     "language": "python",
     "metadata": {},
     "outputs": [],
     "prompt_number": 3
    },
    {
     "cell_type": "code",
     "collapsed": false,
     "input": [
      "max_order=10\n",
      "# Construir una lista, phi, tal que phi[i] contiene todas las\n",
      "# funciones base de Lagrange de orden i+1 en [a,b]\n",
      "phi = []\n",
      "for n in range(1,max_order+1): # Orden: 1,2,...,max_order\n",
      "    list_n = []\n",
      "    xx = np.linspace(-1, 1, n+1)\n",
      "    for i in range(n+1):\n",
      "        yy = np.zeros(n+1)\n",
      "        yy[i] = 1\n",
      "        list_n.append(Lagrange(xx,yy))\n",
      "    phi.append(list_n)"
     ],
     "language": "python",
     "metadata": {},
     "outputs": [],
     "prompt_number": 4
    },
    {
     "cell_type": "code",
     "collapsed": false,
     "input": [
      "cond_list = []\n",
      "for n in range(1,max_order+1):\n",
      "    # 1. Calcular la matriz de rigidez de orden n\n",
      "    A = np.zeros((n+1,n+1))\n",
      "    for i in range(n+1):\n",
      "        for j in range(n+1):\n",
      "            A[i,j] = integrate(diff(phi[n-1][i],x)*diff(phi[n-1][j],x), (x, a, b))\n",
      "    # 2. Calcular sus m\u00e1ximo autovalor\n",
      "    autoval, autovec = eig(A)\n",
      "    c = max(autoval)\n",
      "    print(\"N\u00famero de condici\u00f3n (para n=%i): %f\" % (n,c))\n",
      "    cond_list.append(c)\n",
      "print (cond_list)"
     ],
     "language": "python",
     "metadata": {},
     "outputs": [
      {
       "output_type": "stream",
       "stream": "stdout",
       "text": [
        "N\u00famero de condici\u00f3n (para n=1): 1.000000\n",
        "N\u00famero de condici\u00f3n (para n=2): 4.000000\n",
        "N\u00famero de condici\u00f3n (para n=3): 10.234642"
       ]
      },
      {
       "output_type": "stream",
       "stream": "stdout",
       "text": [
        "\n",
        "N\u00famero de condici\u00f3n (para n=4): 23.577093"
       ]
      },
      {
       "output_type": "stream",
       "stream": "stdout",
       "text": [
        "\n",
        "N\u00famero de condici\u00f3n (para n=5): 54.323971"
       ]
      },
      {
       "output_type": "stream",
       "stream": "stdout",
       "text": [
        "\n",
        "N\u00famero de condici\u00f3n (para n=6): 131.540223"
       ]
      },
      {
       "output_type": "stream",
       "stream": "stdout",
       "text": [
        "\n",
        "N\u00famero de condici\u00f3n (para n=7): 341.238161"
       ]
      },
      {
       "output_type": "stream",
       "stream": "stdout",
       "text": [
        "\n",
        "N\u00famero de condici\u00f3n (para n=8): 949.219402"
       ]
      },
      {
       "output_type": "stream",
       "stream": "stdout",
       "text": [
        "\n",
        "N\u00famero de condici\u00f3n (para n=9): 2805.399351"
       ]
      },
      {
       "output_type": "stream",
       "stream": "stdout",
       "text": [
        "\n",
        "N\u00famero de condici\u00f3n (para n=10): 8699.041437"
       ]
      },
      {
       "output_type": "stream",
       "stream": "stdout",
       "text": [
        "\n",
        "[1.0, 3.9999999999999938, 10.234641505776565, 23.577092925004568, 54.323970607175319, 131.54022278123711, 341.23816064978269, 949.2194020789949, 2805.3993514634922, 8699.0414373209042]\n"
       ]
      }
     ],
     "prompt_number": 6
    },
    {
     "cell_type": "code",
     "collapsed": false,
     "input": [
      "cond_list_lagrange = cond_list\n",
      "xx = range(max_order)\n",
      "plt.loglog(xx, cond_list_lagrange, lw=3)\n",
      "plt.show()"
     ],
     "language": "python",
     "metadata": {},
     "outputs": [
      {
       "metadata": {},
       "output_type": "display_data",
       "png": "[encoded data removed]",
       "text": [
        "<matplotlib.figure.Figure at 0x7f9e1067e748>"
       ]
      }
     ],
     "prompt_number": 22
    },
    {
     "cell_type": "heading",
     "level": 2,
     "metadata": {},
     "source": [
      "Polinomios de Lobatto"
     ]
    },
    {
     "cell_type": "code",
     "collapsed": false,
     "input": [
      "# El m\u00e1ximo autovalor de la matriz de rigidez 1d para bases de Lobatto\n",
      "# es siempre igual a 1\n",
      "cond_list_lobatto = np.ones(max_order)\n",
      "cond_list_lobatto"
     ],
     "language": "python",
     "metadata": {},
     "outputs": [
      {
       "metadata": {},
       "output_type": "pyout",
       "prompt_number": 25,
       "text": [
        "array([ 1.,  1.,  1.,  1.,  1.,  1.,  1.,  1.,  1.,  1.])"
       ]
      }
     ],
     "prompt_number": 25
    },
    {
     "cell_type": "code",
     "collapsed": false,
     "input": [
      "ax = plt.gca() # Obtener el sistema de ejes actual (Get Current Axis)\n",
      "\n",
      "# Hacer invisibles los 4 segmentos del marco (los 4 spines de los ejes)\n",
      "for position in ['left', 'right', 'top', 'bottom']:\n",
      "    ax.spines[position].set_visible(False)\n",
      "\n",
      "# Dibujar l\u00edneas $y=0$ y $x=0$:\n",
      "#plt.axhline(color='black', linewidth=2)\n",
      "#plt.axvline(color='black', linewidth=2)\n",
      "plt.grid()\n",
      "\n",
      "xx = range(max_order)\n",
      "plt.loglog(xx, cond_list_lagrange, 'o-', c='red', lw=3, label=\"Lagrange\")\n",
      "plt.loglog(xx, cond_list_lobatto, 'o-', c='green', lw=3, label=\"Lobatto\")\n",
      "plt.legend(loc='best')\n",
      "\n",
      "plt.savefig('/tmp/cond-numbers.png', dpi=600)\n",
      "plt.show()"
     ],
     "language": "python",
     "metadata": {},
     "outputs": [
      {
       "metadata": {},
       "output_type": "display_data",
       "png": "[encoded data removed]",
       "text": [
        "<matplotlib.figure.Figure at 0x7f9e100b6f28>"
       ]
      }
     ],
     "prompt_number": 64
    },
    {
     "cell_type": "code",
     "collapsed": false,
     "input": [],
     "language": "python",
     "metadata": {},
     "outputs": []
    }
   ],
   "metadata": {}
  }
 ]
}