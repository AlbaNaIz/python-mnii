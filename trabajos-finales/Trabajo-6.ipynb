{
 "metadata": {
  "name": "",
  "signature": "sha256:8b3ca552578e0ad264fe01ea716dff7e3922467eb6445babc2fe4c65343df262"
 },
 "nbformat": 3,
 "nbformat_minor": 0,
 "worksheets": [
  {
   "cells": [
    {
     "cell_type": "markdown",
     "metadata": {},
     "source": [
      "# P\u00e9ndulo con rozamiento\n",
      "\n",
      "En este trabajo se trata de resolver num\u00e9ricamente la ecuaci\u00f3n diferencial de segundo orden que representa el movimiento de un p\u00e9ndulo con rozamiento, de masa $m>0$, sujeto por medio de una varilla de longitud $l>0$.\n",
      "\n",
      "Esta ecuaci\u00f3n se puede escribir como: hallar $x(t): [0,T] \\to \\mathbb{R}$ (donde $T>0$ es el instante de tiempo final, prefijado) tal que \n",
      "$$\n",
      "    x'' = -\\frac{g}{l} \\sin(x) -a x',\n",
      "$$\n",
      "donde $g \\approx 9.8$ es la fuereza de la gravedad. Para la existencia y unicidad de soluci\u00f3n, deberemos a\u00f1adir condiciones iniciales adecuadas. Es f\u00e1cil convertir esta EDO de segundo grado en un sistema de dos ecuaciones diferenciales ordinarias:\n",
      "\\begin{align*}\n",
      "x ' &= y \\\\\n",
      "y ' & =  -\\frac{g}{l} \\sin(y) -a y'\n",
      "\\end{align*}\n",
      "\n",
      "La idea es resolver este sistema de ecuaciones mediante los m\u00e9todos num\u00e9ricos que se consideren adecuados, para distintos valores de los par\u00e1metros del sistema ($a \\ge 0$, $l>0$ y condiciones iniciales).\n",
      "\n",
      "Para poder interpretar el comportamiento del sistema, puede ser conveniente representar las trayectorias $(x(t), y(t))$, $t \\in [0,T]$ y extraer conclusiones sobre la evoluci\u00f3n con el tiempo del p\u00e9ndulo.\n",
      "\n",
      "Si alg\u00fan alumno est\u00e1 interesado, se podr\u00eda estudiar la forma representar animaciones de la evoluci\u00f3n del p\u00e9ndulo con el tiempo.\n",
      "\n",
      "<img src=\"https://upload.wikimedia.org/wikipedia/commons/f/fa/PenduloTmg.gif\", width=150>"
     ]
    },
    {
     "cell_type": "markdown",
     "metadata": {},
     "source": [
      "M\u00e1s informaci\u00f3n:\n",
      "- https://en.wikipedia.org/wiki/Pendulum\n",
      "- http://verso.mat.uam.es/~pablo.angulo/edpan/solucion.entrega1.pdf\n",
      "- (...)"
     ]
    },
    {
     "cell_type": "code",
     "collapsed": false,
     "input": [],
     "language": "python",
     "metadata": {},
     "outputs": []
    }
   ],
   "metadata": {}
  }
 ]
}