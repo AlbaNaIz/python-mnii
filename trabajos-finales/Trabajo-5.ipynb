{
 "metadata": {
  "name": "",
  "signature": "sha256:2d63a045b48303d4604f08db2d1fd1963654ad57590d891825f52e6389709af7"
 },
 "nbformat": 3,
 "nbformat_minor": 0,
 "worksheets": [
  {
   "cells": [
    {
     "cell_type": "markdown",
     "metadata": {},
     "source": [
      "#Caos!\n",
      "\n",
      "En 1963, Edward N. Lorenz public\u00f3 un modelo simplifcado para modelar la convecci\u00f3n atmosf\u00e9rica. Este modelo se puede escribir en t\u00e9rminos del siguiente sistema de tres ecuaciones diferenciales ordinarias (ecuaciones de Lorenz):\n",
      "\\begin{align}\n",
      "\\frac{\\mathrm{d}x}{\\mathrm{d}t} &= a (y - x), \\\\\n",
      "\\frac{\\mathrm{d}y}{\\mathrm{d}t} &= x (b - z) - y, \\\\\n",
      "\\frac{\\mathrm{d}z}{\\mathrm{d}t} &= x y - c z.\n",
      "\\end{align}\n",
      "En estas ecuaciones, $a,b,c$ son par\u00e1metros reales, que suelen considerarse positivos y determinan las propiedades de la soluci\u00f3n.\n",
      "\n",
      "La caracter\u00edstica m\u00e1s destacada de este sistema es el car\u00e1cter ca\u00f3tico de sus soluciones:\n",
      "\n",
      "<img src=\"https://upload.wikimedia.org/wikipedia/commons/f/f4/Lorenz_attractor.svg\",width=250,height=250>\n",
      "\n",
      "Aunque la palabra *caos* no tenga una definici\u00f3n matem\u00e1tica precisa, \u00e9sta se puede asociar a las siguientes caracter\u00edstias:\n",
      "\n",
      "1. Alta sensibilidad (inestabilidad) de las soluciones respecto de los datos (par\u00e1metros y condiciones iniciales) del sistema.\n",
      "2. Existencia, en las \u00f3rbitas de las soluciones, de ciclos que convergen a dos o m\u00e1s atractores diferentes \n",
      "\n",
      "En este trabajo, que tiene una *dificultad media/alta* se trata de \n",
      "1. Presentar el sistema de Loretnz\n",
      "2. Desarrollar m\u00e9todos num\u00e9ricos apropiados para su resoluci\u00f3n num\u00e9rica\n",
      "3. Estudiar gr\u00e1ficamente la soluci\u00f3n para distintos datos\n",
      "\n",
      "Si alg\u00fan alumno est\u00e1 interesado, se puede tratar de utilizar software para gr\u00e1ficos 3-d de alta calidad, como [Paraview](http://www.paraview.org/), para representar gr\u00e1ficas tan hermosas como las que aparecen en http://paulbourke.net/fractals/lorenz/\n",
      "\n",
      "M\u00e1s informaci\u00f3n:\n",
      "- https://en.wikipedia.org/wiki/Lorenz_system\n",
      "- https://www.math.hmc.edu/resources/odes/odearchitect/examples/a2.pdf\n",
      "- http://www.stsci.edu/~lbradley/seminar/attractors.html\n",
      "- (...)\n"
     ]
    }
   ],
   "metadata": {}
  }
 ]
}