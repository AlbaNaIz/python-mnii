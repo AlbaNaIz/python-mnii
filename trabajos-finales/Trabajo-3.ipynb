{
 "metadata": {
  "name": "",
  "signature": "sha256:a465bad6e755e9869d9db1e1e8a8d381778ee477bfbfe606810d6bf61c5904c1"
 },
 "nbformat": 3,
 "nbformat_minor": 0,
 "worksheets": [
  {
   "cells": [
    {
     "cell_type": "markdown",
     "metadata": {},
     "source": [
      "# Proyecto 3\n",
      "\n",
      "## \u00d3rbitas de los planetas\n",
      "\n",
      "### Resumen\n",
      "\n",
      "Un ejemplo muy interesantes de resoluci\u00f3n de un sistema de ecuaciones diferenciales\n",
      "es la descripci\u00f3n del movimiento de los planetas, el cual tiene una soluci\u00f3n anal\u00edtica sencilla en coordenadas polares (que consiste en una \u00f3rbita el\u00edptica, lo que coincide con la primera ley de Kepler). No obstante, el solucionar num\u00e9ricamente las ecuaciones nos permite acceder a problemas m\u00e1s complejos, en los que la soluci\u00f3n no ser\u00e1 conocida (en general), por ejemplo el [problema de los tres cuerpos](http://es.wikipedia.org/wiki/Problema_de_los_tres_cuerpos).\n",
      "\n",
      "La dificultad es que las ecuaciones de movimentos de dos planetas viene dado por un sistema de ecuaciones en coordenadas polares (con inc\u00f3gnias $\\rho$ y $\\theta$). Adem\u00e1s, cada ecuaci\u00f3n es de segundo orden, lo que en la pr\u00e1ctica significa que cada una de ellas se descompone, a su vez, en dos ecuaciones de primer orden. En definitiva, tendremos que resolver cuatro ecuaciones diferenciales. \n",
      "\n",
      "Habitualmente, para su resoluci\u00f3n se utilizan esquemas de Runge-Kuta (orden 4).\n",
      "En la siguiente p\u00e1gina web, http://www.sc.ehu.es/sbweb/fisica/cursoJava/numerico/eDiferenciales/rungeKutta1/rungeKutta11.htm, se detalla su implementaci\u00f3n en lenguaje Java. Una idea de para esta pr\u00e1ctica es, simplemente, adaptar al lenguaje Python la implementaci\u00f3n dada en la p\u00e1gina anterior.\n",
      "\n",
      "O bien (si se desea) se pueden usar m\u00e9todos m\u00e1s sencillos (y de menor orden) que Runge-Kutta. En el el Proyecto-4 (dedicado a problemas diferenciales de orden superior y a ecuaciones diferenciales) se da un ejemplo en el quese programa el m\u00e9todo de Euler aplicado a un sistema de dos ecuaciones diferenciales.\n",
      "\n",
      "**Dificultad**: *Dif\u00edcil*. Se puede contar con el apoyo del profesor de la asignatura. En la evaluaci\u00f3n, se tendr\u00e1 en cuenta esta dificultad (aumentando la calificaci\u00f3n).\n"
     ]
    },
    {
     "cell_type": "markdown",
     "metadata": {},
     "source": [
      "### El problema f\u00edsico\n",
      "\n",
      "La idea de esta pr\u00e1ctica es crear un programa de ordenador que calcule la \u00f3rbita de un planeta mediante resoluci\u00f3n num\u00e9rica de las ecuaciones diferenciales que determinan su posici\u00f3n a lo largo del tiempo. \n",
      "\n",
      "Para completar la pr\u00e1ctica, ser\u00eda muy buena idea el introducir (con el nivel de detalle que se crea conveniente) estas ecuaciones.\n",
      "\n",
      "Las ecuaciones diferenciales, que se deducen de las Ecuaciones de Kepler para la din\u00e1mica celeste, describen el movimiento de una part\u00edcula de masa $m$ (un planeta) bajo la atracci\u00f3n de una part\u00edcula (el sol) de masa $M$ que supondremos fija (y en la que situaremos el origen de coordenadas).\n",
      "\n",
      "Describimos el movimento del planeta como una funci\u00f3n que, a cada instante $t$, le asigna su posici\u00f3n en el espacio, que se describe a trav\u00e9s de coordenadas polares como ($\\rho(t), \\theta(t))$. Esto significa que, en el instante $t$, $\\mathbf{x}(t)=(x_1(t),x_2(t))\\in \\mathbb{R}^2$ es la posici\u00f3n del planeta en coordenadas cartesianas (trabajaremos en $\\mathbb{R}^2$ porque los planetas describen \u00f3rbitas planas), entonces:\n",
      "\n",
      "> \\begin{align*}\n",
      "x_1(t) &= \\rho(t)\\cos(\\theta(t)), \\\\\n",
      "x_2(t) &= \\rho(t)\\sin(\\theta(t)).\n",
      "\\end{align*}\n",
      "\n",
      "Mediante un razonamiento basado en la Ley de la Gravitaci\u00f3n Universal de Newton, se pueden obtener las ecuaciones diferenciales para ($\\rho(t), \\theta(t))$ que describen el movimiento del planeta. Para conocer los detalles, consultar (por ejemplo) el apartado 23 (p\u00e1gina 159) del libro \"Ecuaciones diferenciales: c\u00f3mo aprenderlas, c\u00f3mo ense\u00f1arlas\" \n",
      "([ver extracto en Google Books](https://books.google.es/books?id=qWvBHNZFslUC&pg=PA159&lpg=PA159&dq=ecuaci%C3%B3n+diferencial+%C3%B3rbita+planeta&source=bl&ots=ooLCuqGdG8&sig=bdF-PGuY9LnmNWElf_d6N8SjWRE&hl=en&sa=X&ei=AipiVe0LiaJTu-iDaA&ved=0CEIQ6AEwBA#v=onepage&q=ecuaci%C3%B3n%20diferencial%20%C3%B3rbita%20planeta&f=false)).\n",
      "\n",
      "Si alg\u00fan alumno lo desea, se podr\u00eda estudiar la forma representar animaciones de las \u00f3rbitas de uno o m\u00e1s planetas con el tiempo (por ejemplo usando [PyGame](http://www.pygame.org/hifi.html)) "
     ]
    },
    {
     "cell_type": "code",
     "collapsed": false,
     "input": [],
     "language": "python",
     "metadata": {},
     "outputs": []
    }
   ],
   "metadata": {}
  }
 ]
}