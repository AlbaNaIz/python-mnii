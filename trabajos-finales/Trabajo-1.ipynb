{
 "metadata": {
  "name": "proyecto-1"
 },
 "nbformat": 3,
 "nbformat_minor": 0,
 "worksheets": [
  {
   "cells": [
    {
     "cell_type": "markdown",
     "metadata": {},
     "source": [
      "# Proyecto 1\n",
      "\n",
      "## Biblioteca Python de m\u00e9todos num\u00e9ricos para problemas de valor inicial\n",
      "\n",
      "Idea: **Desarrollar una biblioteca** (un m\u00f3dulo) python en la que se recojan todos los m\u00e9todos expl\u00edcitos que se han descrito en la asignatura.\n",
      "\n",
      "Nivel de dificultad: f\u00e1cil.\n",
      "\n",
      "Algunos de los m\u00e9todos sugeridos:\n",
      "\n",
      "- M\u00e9todo de Euler \n",
      "- Euler-Cauchy\n",
      "- Euler Mejorado\n",
      "- Runge-Kutta (de orden 4)\n",
      "\n",
      "Se valorar\u00e1 el que las funciones de la biblioteca...\n",
      "\n",
      "- sean claras y est\u00e9n bien comentadas,\n",
      "- incluyan una l\u00ednea de ayuda sobre su funcionamiento,\n",
      "- optimicen el tiempo de c\u00e1lculo (por ejemplo, realizando el menor n\u00famero posible de llamadas a la funci\u00f3n que define el problema de valor inicial).\n",
      "\n",
      "Se deber\u00e1 **comprobar que la biblioteca funciona correctamente**. Para ello, se puede crear un programa (por ejemplo en IPython Notebook) en el que se eval\u00fae cada una de las funciones contenidas en esta biblioteca. Se sugiere el siguiente proceso de evaluaci\u00f3n:\n",
      "\n",
      "- Elegir uno o varios problemas de valor inicial que se consideren interesantes (por ejemplo, extra\u00eddos de la bibliograf\u00eda de esta u otras asignaturas, ecuaciones que provengan del \u00e1mbito de la Ciencia, etc.). \n",
      "- Probar, para cada uno de los problemas seleccionados, las funciones de la biblioteca, comparando con la soluci\u00f3n exacta (en caso de que \u00e9sta sea conocida) o bien con la soluci\u00f3n aproximada que proporciona la funci\u00f3n *odeint* de Python. \n",
      "\n",
      "- Para cada m\u00e9todo, probar distintos valores del paso $h$, comprobando c\u00f3mo los m\u00e9todos de menor orden exigen que $h$ sea mucho menor que en el caso de m\u00e9todos de mayor orden.\n",
      "  "
     ]
    },
    {
     "cell_type": "code",
     "collapsed": false,
     "input": [],
     "language": "python",
     "metadata": {},
     "outputs": []
    }
   ],
   "metadata": {}
  }
 ]
}